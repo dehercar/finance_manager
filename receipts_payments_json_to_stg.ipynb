{
 "cells": [
  {
   "cell_type": "code",
   "execution_count": 1,
   "metadata": {},
   "outputs": [
    {
     "name": "stdout",
     "output_type": "stream",
     "text": [
      "transaction=Transaction(transaction_date='2024-11-13', commerce='Costco', receipt_detail=[ReceiptDetail(quantity=1.0, description='par de jeans', category='Clothing', unit_price=500.0, subtotal=500.0), ReceiptDetail(quantity=1.0, description='cuernitos', category='Bakery', unit_price=99.0, subtotal=99.0), ReceiptDetail(quantity=2.0, description='pastelitos', category='Bakery', unit_price=150.0, subtotal=300.0), ReceiptDetail(quantity=25.0, description='litros de gasolina', category='Fuel', unit_price=23.01, subtotal=575.25), ReceiptDetail(quantity=1.3, description='kilos de tomate', category='Produce', unit_price=29.9, subtotal=38.87)], receipt_payment_method=[PaymentMethod(payment_method_type='Credit Card', payment_method_name='Costco Citibanamex', paid_amount=1500.12), PaymentMethod(payment_method_type='Credit Card', payment_method_name='Tarjeta NU', paid_amount=2000.01)], receipt_total=1513.12, total_payment=3500.13)\n",
      "Stored 'filename' (str)\n",
      "Stored 'filepath_json' (str)\n"
     ]
    }
   ],
   "source": [
    "%run ./spend_text_to_json.ipynb"
   ]
  },
  {
   "cell_type": "code",
   "execution_count": 6,
   "metadata": {},
   "outputs": [],
   "source": [
    "import pandas as pd\n",
    "import json"
   ]
  },
  {
   "cell_type": "code",
   "execution_count": 3,
   "metadata": {},
   "outputs": [],
   "source": [
    "# Open and read the JSON file\n",
    "with open(filepath_json, 'r') as file:\n",
    "    response_json = json.load(file)"
   ]
  },
  {
   "cell_type": "code",
   "execution_count": 7,
   "metadata": {},
   "outputs": [
    {
     "data": {
      "text/html": [
       "<div>\n",
       "<style scoped>\n",
       "    .dataframe tbody tr th:only-of-type {\n",
       "        vertical-align: middle;\n",
       "    }\n",
       "\n",
       "    .dataframe tbody tr th {\n",
       "        vertical-align: top;\n",
       "    }\n",
       "\n",
       "    .dataframe thead th {\n",
       "        text-align: right;\n",
       "    }\n",
       "</style>\n",
       "<table border=\"1\" class=\"dataframe\">\n",
       "  <thead>\n",
       "    <tr style=\"text-align: right;\">\n",
       "      <th></th>\n",
       "      <th>quantity</th>\n",
       "      <th>description</th>\n",
       "      <th>category</th>\n",
       "      <th>unit_price</th>\n",
       "      <th>subtotal</th>\n",
       "      <th>transaction_date</th>\n",
       "      <th>commerce</th>\n",
       "      <th>receipt_total</th>\n",
       "    </tr>\n",
       "  </thead>\n",
       "  <tbody>\n",
       "    <tr>\n",
       "      <th>0</th>\n",
       "      <td>1.0</td>\n",
       "      <td>par de jeans</td>\n",
       "      <td>Clothing</td>\n",
       "      <td>500.00</td>\n",
       "      <td>500.00</td>\n",
       "      <td>2024-11-13</td>\n",
       "      <td>Costco</td>\n",
       "      <td>1513.12</td>\n",
       "    </tr>\n",
       "    <tr>\n",
       "      <th>1</th>\n",
       "      <td>1.0</td>\n",
       "      <td>cuernitos</td>\n",
       "      <td>Bakery</td>\n",
       "      <td>99.00</td>\n",
       "      <td>99.00</td>\n",
       "      <td>2024-11-13</td>\n",
       "      <td>Costco</td>\n",
       "      <td>1513.12</td>\n",
       "    </tr>\n",
       "    <tr>\n",
       "      <th>2</th>\n",
       "      <td>2.0</td>\n",
       "      <td>pastelitos</td>\n",
       "      <td>Bakery</td>\n",
       "      <td>150.00</td>\n",
       "      <td>300.00</td>\n",
       "      <td>2024-11-13</td>\n",
       "      <td>Costco</td>\n",
       "      <td>1513.12</td>\n",
       "    </tr>\n",
       "    <tr>\n",
       "      <th>3</th>\n",
       "      <td>25.0</td>\n",
       "      <td>litros de gasolina</td>\n",
       "      <td>Fuel</td>\n",
       "      <td>23.01</td>\n",
       "      <td>575.25</td>\n",
       "      <td>2024-11-13</td>\n",
       "      <td>Costco</td>\n",
       "      <td>1513.12</td>\n",
       "    </tr>\n",
       "    <tr>\n",
       "      <th>4</th>\n",
       "      <td>1.3</td>\n",
       "      <td>kilos de tomate</td>\n",
       "      <td>Produce</td>\n",
       "      <td>29.90</td>\n",
       "      <td>38.87</td>\n",
       "      <td>2024-11-13</td>\n",
       "      <td>Costco</td>\n",
       "      <td>1513.12</td>\n",
       "    </tr>\n",
       "  </tbody>\n",
       "</table>\n",
       "</div>"
      ],
      "text/plain": [
       "   quantity         description  category  unit_price  subtotal  \\\n",
       "0       1.0        par de jeans  Clothing      500.00    500.00   \n",
       "1       1.0           cuernitos    Bakery       99.00     99.00   \n",
       "2       2.0          pastelitos    Bakery      150.00    300.00   \n",
       "3      25.0  litros de gasolina      Fuel       23.01    575.25   \n",
       "4       1.3     kilos de tomate   Produce       29.90     38.87   \n",
       "\n",
       "  transaction_date commerce  receipt_total  \n",
       "0       2024-11-13   Costco        1513.12  \n",
       "1       2024-11-13   Costco        1513.12  \n",
       "2       2024-11-13   Costco        1513.12  \n",
       "3       2024-11-13   Costco        1513.12  \n",
       "4       2024-11-13   Costco        1513.12  "
      ]
     },
     "metadata": {},
     "output_type": "display_data"
    }
   ],
   "source": [
    "# Will be created two dataframes: one with receipt data and another with payments\n",
    "# Receipt data will contain all ticket products/services acquired data\n",
    "# Payments data will contain how prodct/services were acquired\n",
    "RECEIPT_COLUMNS = ['transaction_date', 'commerce','receipt_total']\n",
    "\n",
    "receipt_df_raw = pd.DataFrame(response_json.get('receipt_detail'))\n",
    "\n",
    "for col in RECEIPT_COLUMNS:\n",
    "    receipt_df_raw[col] = response_json[col]\n",
    "\n",
    "display(receipt_df_raw)"
   ]
  },
  {
   "cell_type": "code",
   "execution_count": 5,
   "metadata": {},
   "outputs": [
    {
     "data": {
      "text/html": [
       "<div>\n",
       "<style scoped>\n",
       "    .dataframe tbody tr th:only-of-type {\n",
       "        vertical-align: middle;\n",
       "    }\n",
       "\n",
       "    .dataframe tbody tr th {\n",
       "        vertical-align: top;\n",
       "    }\n",
       "\n",
       "    .dataframe thead th {\n",
       "        text-align: right;\n",
       "    }\n",
       "</style>\n",
       "<table border=\"1\" class=\"dataframe\">\n",
       "  <thead>\n",
       "    <tr style=\"text-align: right;\">\n",
       "      <th></th>\n",
       "      <th>payment_method_type</th>\n",
       "      <th>payment_method_name</th>\n",
       "      <th>paid_amount</th>\n",
       "      <th>transaction_date</th>\n",
       "      <th>total_payment</th>\n",
       "    </tr>\n",
       "  </thead>\n",
       "  <tbody>\n",
       "    <tr>\n",
       "      <th>0</th>\n",
       "      <td>Credit Card</td>\n",
       "      <td>Costco Citibanamex</td>\n",
       "      <td>1500.12</td>\n",
       "      <td>2024-11-13</td>\n",
       "      <td>3500.13</td>\n",
       "    </tr>\n",
       "    <tr>\n",
       "      <th>1</th>\n",
       "      <td>Credit Card</td>\n",
       "      <td>Tarjeta NU</td>\n",
       "      <td>2000.01</td>\n",
       "      <td>2024-11-13</td>\n",
       "      <td>3500.13</td>\n",
       "    </tr>\n",
       "  </tbody>\n",
       "</table>\n",
       "</div>"
      ],
      "text/plain": [
       "  payment_method_type payment_method_name  paid_amount transaction_date  \\\n",
       "0         Credit Card  Costco Citibanamex      1500.12       2024-11-13   \n",
       "1         Credit Card          Tarjeta NU      2000.01       2024-11-13   \n",
       "\n",
       "   total_payment  \n",
       "0        3500.13  \n",
       "1        3500.13  "
      ]
     },
     "metadata": {},
     "output_type": "display_data"
    }
   ],
   "source": [
    "PAYMENT_COLUMNS = ['transaction_date','total_payment']\n",
    "\n",
    "payment_df_raw = pd.DataFrame(response_json.get('receipt_payment_method'))\n",
    "\n",
    "for col in PAYMENT_COLUMNS:\n",
    "    payment_df_raw[col] = response_json[col]\n",
    "\n",
    "display(payment_df_raw)"
   ]
  }
 ],
 "metadata": {
  "kernelspec": {
   "display_name": "myenv",
   "language": "python",
   "name": "python3"
  },
  "language_info": {
   "codemirror_mode": {
    "name": "ipython",
    "version": 3
   },
   "file_extension": ".py",
   "mimetype": "text/x-python",
   "name": "python",
   "nbconvert_exporter": "python",
   "pygments_lexer": "ipython3",
   "version": "3.10.13"
  }
 },
 "nbformat": 4,
 "nbformat_minor": 2
}
