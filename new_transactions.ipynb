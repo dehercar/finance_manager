{
 "cells": [
  {
   "cell_type": "code",
   "execution_count": 2,
   "metadata": {},
   "outputs": [],
   "source": [
    "import pandas as pd\n",
    "import numpy as np"
   ]
  },
  {
   "cell_type": "code",
   "execution_count": 3,
   "metadata": {},
   "outputs": [],
   "source": [
    "excel_dbfs_path = f\"./david_finance.xlsx\"\n",
    "sheet_name = f\"registro_de_cargos\""
   ]
  },
  {
   "cell_type": "code",
   "execution_count": 4,
   "metadata": {},
   "outputs": [],
   "source": [
    "dfp = pd.read_excel(excel_dbfs_path, engine = \"openpyxl\", sheet_name = sheet_name, dtype = {\"monto\":'float'})"
   ]
  },
  {
   "cell_type": "code",
   "execution_count": 5,
   "metadata": {},
   "outputs": [],
   "source": [
    "tdc_df = pd.read_excel(excel_dbfs_path, engine = \"openpyxl\", sheet_name = \"tarjetas_de_credito\")"
   ]
  },
  {
   "cell_type": "code",
   "execution_count": 10,
   "metadata": {},
   "outputs": [],
   "source": [
    "class Transactions:\n",
    "    def __init__(self, df: pd.DataFrame):\n",
    "        self.empty_recurrents_df = pd.DataFrame(\n",
    "                        columns=['fecha_de_cargo' ,\n",
    "                                'descripcion', \n",
    "                                'categoria', \n",
    "                                'monto', \n",
    "                                'forma_de_pago', \n",
    "                                'realizado_por', \n",
    "                                'limite_de_pago', \n",
    "                                'deuda_a_plazos_recurrente_o_normal', \n",
    "                                'comentarios'\n",
    "                                ])\n",
    "\n",
    "        self.tdc_df = pd.read_excel(excel_dbfs_path, engine = \"openpyxl\", sheet_name = \"tarjetas_de_credito\")\n",
    "        self.condition_blank_comment = lambda text: text if text == text else \"\"\n",
    "        self.df = df\n",
    "        self.validate_if_empty()\n",
    "\n",
    "    def validate_if_empty(self):\n",
    "        if len(self.df) == 0:\n",
    "            raise ImportError(f\"Unable to load dataframe of length {len(self.df)}. Load at least 1 len dataframe\")\n",
    "        \n",
    "        \n",
    "    def get_due_dates(self):\n",
    "        \"\"\"\n",
    "        :ref:`row` is the current iteration row\n",
    "        \"\"\"\n",
    "        # To get the due date we need:\n",
    "        # - to merge with credit cards DimTable to get the closing date and the grace period\n",
    "        df_dias_de_corte = self.df.merge(\n",
    "            right = self.tdc_df,\n",
    "            how=\"left\",\n",
    "            left_on = \"forma_de_pago\",\n",
    "            right_on = \"credit_cards\"\n",
    "        ) \n",
    "\n",
    "        \n",
    "        # - to substitue the actual transaction date with the day closing date. Just apply for credit cards\n",
    "        df_dias_de_corte[\"limite_de_pago\"] = pd.to_datetime(\n",
    "                [\n",
    "                    f'{row[\"fecha_de_cargo\"].year}-{row[\"fecha_de_cargo\"].month}-{int(row[\"dia_de_corte\"])}' \n",
    "                    if row[\"credit_cards\"] == row[\"credit_cards\"] # means if not null\n",
    "                    else row[\"fecha_de_cargo\"] \n",
    "                    for _,row in df_dias_de_corte.iterrows()\n",
    "                ], format = \"%Y-%m-%d\"\n",
    "                )\n",
    "        # - Impute with 0 no credit cards transactions\n",
    "        df_dias_de_corte[\"plazo_para_pagar\"] = df_dias_de_corte[\"plazo_para_pagar\"].fillna(0).copy()\n",
    "\n",
    "        # - Get delta days based on the grace period per credit card (0 for no credit cards transactions)\n",
    "        days_to_add = pd.to_timedelta(df_dias_de_corte[\"plazo_para_pagar\"], unit='D') \n",
    "\n",
    "        # - Sum the grace period \n",
    "        df_dias_de_corte[\"limite_de_pago\"] += days_to_add\n",
    "        \n",
    "        # - Sum one month if closing date was after the transaction date\n",
    "        df_dias_de_corte[\"limite_de_pago\"] = (df_dias_de_corte[\"limite_de_pago\"] + pd.DateOffset(months=1)).where(\n",
    "            df_dias_de_corte['fecha_de_cargo'].dt.day > df_dias_de_corte['dia_de_corte'],\n",
    "            df_dias_de_corte[\"limite_de_pago\"])\n",
    "\n",
    "        df_dias_de_corte.drop(columns=[\"credit_cards\",\"dia_de_corte\", \"plazo_para_pagar\"], inplace=True)\n",
    "        df_dias_de_corte[\"deuda_a_plazos_recurrente_o_normal\"] = \"Normal\"\n",
    "        df_dias_de_corte[\"comentarios\"] = df_dias_de_corte[\"comentarios\"].apply(self.condition_blank_comment)\n",
    "\n",
    "        return df_dias_de_corte\n",
    "    \n",
    "    def pdconcat_wise(self, base_df: pd.DataFrame, concat_df: pd.DataFrame):\n",
    "        if concat_df is None:\n",
    "            return base_df\n",
    "        elif len(base_df) > 0:\n",
    "            return pd.concat(\n",
    "                        [\n",
    "                            base_df,\n",
    "                            concat_df\n",
    "                        ],\n",
    "                            ignore_index=True\n",
    "                    )\n",
    "        else:\n",
    "            return concat_df"
   ]
  },
  {
   "cell_type": "code",
   "execution_count": 11,
   "metadata": {},
   "outputs": [],
   "source": [
    "transactions_creator = Transactions(dfp)"
   ]
  },
  {
   "cell_type": "code",
   "execution_count": 12,
   "metadata": {},
   "outputs": [],
   "source": [
    "df = transactions_creator.get_due_dates()"
   ]
  },
  {
   "cell_type": "code",
   "execution_count": 13,
   "metadata": {},
   "outputs": [
    {
     "data": {
      "text/html": [
       "<div>\n",
       "<style scoped>\n",
       "    .dataframe tbody tr th:only-of-type {\n",
       "        vertical-align: middle;\n",
       "    }\n",
       "\n",
       "    .dataframe tbody tr th {\n",
       "        vertical-align: top;\n",
       "    }\n",
       "\n",
       "    .dataframe thead th {\n",
       "        text-align: right;\n",
       "    }\n",
       "</style>\n",
       "<table border=\"1\" class=\"dataframe\">\n",
       "  <thead>\n",
       "    <tr style=\"text-align: right;\">\n",
       "      <th></th>\n",
       "      <th>fecha_de_cargo</th>\n",
       "      <th>descripcion</th>\n",
       "      <th>categoria</th>\n",
       "      <th>monto</th>\n",
       "      <th>forma_de_pago</th>\n",
       "      <th>realizado_por</th>\n",
       "      <th>deuda_a_plazos_recurrente_o_normal</th>\n",
       "      <th>comentarios</th>\n",
       "      <th>limite_de_pago</th>\n",
       "    </tr>\n",
       "  </thead>\n",
       "  <tbody>\n",
       "    <tr>\n",
       "      <th>0</th>\n",
       "      <td>2024-05-10</td>\n",
       "      <td>Flores Mamá</td>\n",
       "      <td>Gym</td>\n",
       "      <td>200.0</td>\n",
       "      <td>Costco</td>\n",
       "      <td>Aylin</td>\n",
       "      <td>Normal</td>\n",
       "      <td></td>\n",
       "      <td>2024-06-03</td>\n",
       "    </tr>\n",
       "    <tr>\n",
       "      <th>1</th>\n",
       "      <td>2024-05-09</td>\n",
       "      <td>Flores Mamá</td>\n",
       "      <td>Gym</td>\n",
       "      <td>200.0</td>\n",
       "      <td>Costco</td>\n",
       "      <td>Aylin</td>\n",
       "      <td>Normal</td>\n",
       "      <td></td>\n",
       "      <td>2024-06-03</td>\n",
       "    </tr>\n",
       "  </tbody>\n",
       "</table>\n",
       "</div>"
      ],
      "text/plain": [
       "  fecha_de_cargo  descripcion categoria  monto forma_de_pago realizado_por  \\\n",
       "0     2024-05-10  Flores Mamá       Gym  200.0        Costco         Aylin   \n",
       "1     2024-05-09  Flores Mamá       Gym  200.0        Costco         Aylin   \n",
       "\n",
       "  deuda_a_plazos_recurrente_o_normal comentarios limite_de_pago  \n",
       "0                             Normal                 2024-06-03  \n",
       "1                             Normal                 2024-06-03  "
      ]
     },
     "execution_count": 13,
     "metadata": {},
     "output_type": "execute_result"
    }
   ],
   "source": [
    "df"
   ]
  },
  {
   "cell_type": "code",
   "execution_count": 334,
   "metadata": {},
   "outputs": [],
   "source": [
    "%store -r df_all_installments\n",
    "%store -r df_all_recurrents"
   ]
  },
  {
   "cell_type": "code",
   "execution_count": 335,
   "metadata": {},
   "outputs": [],
   "source": [
    "df = transactions_creator.pdconcat_wise(df, df_all_installments)\n",
    "df = transactions_creator.pdconcat_wise(df, df_all_recurrents)"
   ]
  },
  {
   "cell_type": "code",
   "execution_count": null,
   "metadata": {},
   "outputs": [],
   "source": [
    "%store df"
   ]
  }
 ],
 "metadata": {
  "kernelspec": {
   "display_name": "myenv",
   "language": "python",
   "name": "python3"
  },
  "language_info": {
   "codemirror_mode": {
    "name": "ipython",
    "version": 3
   },
   "file_extension": ".py",
   "mimetype": "text/x-python",
   "name": "python",
   "nbconvert_exporter": "python",
   "pygments_lexer": "ipython3",
   "version": "3.10.13"
  },
  "orig_nbformat": 4
 },
 "nbformat": 4,
 "nbformat_minor": 2
}
