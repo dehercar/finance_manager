{
 "cells": [
  {
   "cell_type": "code",
   "execution_count": 1,
   "metadata": {},
   "outputs": [],
   "source": [
    "import pandas as pd"
   ]
  },
  {
   "cell_type": "code",
   "execution_count": 2,
   "metadata": {},
   "outputs": [],
   "source": [
    "excel_dbfs_path = f\"./david_finance.xlsx\"\n",
    "sheet_name = f\"cargos_pue\""
   ]
  },
  {
   "cell_type": "code",
   "execution_count": 3,
   "metadata": {},
   "outputs": [],
   "source": [
    "dfp = pd.read_excel(excel_dbfs_path, engine = \"openpyxl\", sheet_name = sheet_name, dtype = {\"monto\":'float'})"
   ]
  },
  {
   "cell_type": "code",
   "execution_count": 4,
   "metadata": {},
   "outputs": [],
   "source": [
    "tdc_df = pd.read_excel(excel_dbfs_path, engine = \"openpyxl\", sheet_name = \"tarjetas_de_credito\")"
   ]
  },
  {
   "cell_type": "code",
   "execution_count": 5,
   "metadata": {},
   "outputs": [],
   "source": [
    "class Transactions:\n",
    "    def __init__(self, df: pd.DataFrame = None):\n",
    "        self.empty_recurrents_df = pd.DataFrame(\n",
    "                        columns=['fecha_de_cargo' ,\n",
    "                                'comercio',\n",
    "                                'descripcion', \n",
    "                                'categoria', \n",
    "                                'monto', \n",
    "                                'forma_de_pago', \n",
    "                                'realizado_por', \n",
    "                                'limite_de_pago', \n",
    "                                'deuda_a_plazos_recurrente_o_normal', \n",
    "                                'comentarios'\n",
    "                                ])\n",
    "\n",
    "        self.tdc_df = pd.read_excel(excel_dbfs_path, engine = \"openpyxl\", sheet_name = \"tarjetas_de_credito\")\n",
    "        self.condition_blank_comment = lambda text: text if text == text else \"\"\n",
    "        self.df = df\n",
    "        self.validate_if_empty()\n",
    "\n",
    "    def validate_if_empty(self):\n",
    "        if len(self.df) == 0:\n",
    "            raise ImportError(f\"Unable to load dataframe of length {len(self.df)}. Load at least 1 len dataframe\")\n",
    "        \n",
    "        \n",
    "    def get_due_dates(self):\n",
    "        \"\"\"\n",
    "        :ref:`row` is the current iteration row\n",
    "        \"\"\"\n",
    "        # To get the due date we need:\n",
    "        # - to merge with credit cards DimTable to get the closing date and the grace period\n",
    "        df_dias_de_corte = self.df.merge(\n",
    "            right = self.tdc_df,\n",
    "            how=\"left\",\n",
    "            left_on = \"forma_de_pago\",\n",
    "            right_on = \"credit_cards\"\n",
    "        ) \n",
    "\n",
    "        \n",
    "        # - to substitue the actual transaction date with the day closing date. Just apply for credit cards\n",
    "        df_dias_de_corte[\"limite_de_pago\"] = pd.to_datetime(\n",
    "                [\n",
    "                    f'{row[\"fecha_de_cargo\"].year}-{row[\"fecha_de_cargo\"].month}-{int(row[\"dia_de_corte\"])}' \n",
    "                    if row[\"credit_cards\"] == row[\"credit_cards\"] # means if not null\n",
    "                    else row[\"fecha_de_cargo\"] \n",
    "                    for _,row in df_dias_de_corte.iterrows()\n",
    "                ], format = \"%Y-%m-%d\"\n",
    "                )\n",
    "        # - Impute with 0 no credit cards transactions\n",
    "        df_dias_de_corte[\"plazo_para_pagar\"] = df_dias_de_corte[\"plazo_para_pagar\"].fillna(0).copy()\n",
    "\n",
    "        # - Get delta days based on the grace period per credit card (0 for no credit cards transactions)\n",
    "        days_to_add = pd.to_timedelta(df_dias_de_corte[\"plazo_para_pagar\"], unit='D') \n",
    "\n",
    "        # - Sum the grace period \n",
    "        df_dias_de_corte[\"limite_de_pago\"] += days_to_add\n",
    "        \n",
    "        # - Sum one month if closing date was after the transaction date\n",
    "        df_dias_de_corte[\"limite_de_pago\"] = (df_dias_de_corte[\"limite_de_pago\"] + pd.DateOffset(months=1)).where(\n",
    "            df_dias_de_corte['fecha_de_cargo'].dt.day > df_dias_de_corte['dia_de_corte'],\n",
    "            df_dias_de_corte[\"limite_de_pago\"])\n",
    "\n",
    "        df_dias_de_corte.drop(columns=[\"credit_cards\",\"dia_de_corte\", \"plazo_para_pagar\"], inplace=True)\n",
    "        df_dias_de_corte[\"deuda_a_plazos_recurrente_o_normal\"] = \"Normal\"\n",
    "        df_dias_de_corte[\"comentarios\"] = df_dias_de_corte[\"comentarios\"].apply(self.condition_blank_comment)\n",
    "\n",
    "        return df_dias_de_corte\n",
    "    \n",
    "    def pdconcat_wise(self, base_df: pd.DataFrame, concat_df: pd.DataFrame):\n",
    "        if concat_df is None:\n",
    "            return base_df\n",
    "        elif len(base_df) > 0:\n",
    "            return pd.concat(\n",
    "                        [\n",
    "                            base_df,\n",
    "                            concat_df\n",
    "                        ],\n",
    "                            ignore_index=True\n",
    "                    )\n",
    "        else:\n",
    "            return concat_df"
   ]
  },
  {
   "cell_type": "code",
   "execution_count": 13,
   "metadata": {},
   "outputs": [],
   "source": [
    "transactions_creator = Transactions(dfp)"
   ]
  },
  {
   "cell_type": "code",
   "execution_count": 14,
   "metadata": {},
   "outputs": [],
   "source": [
    "transactions_df = transactions_creator.get_due_dates()"
   ]
  },
  {
   "cell_type": "code",
   "execution_count": 15,
   "metadata": {},
   "outputs": [
    {
     "data": {
      "text/html": [
       "<div>\n",
       "<style scoped>\n",
       "    .dataframe tbody tr th:only-of-type {\n",
       "        vertical-align: middle;\n",
       "    }\n",
       "\n",
       "    .dataframe tbody tr th {\n",
       "        vertical-align: top;\n",
       "    }\n",
       "\n",
       "    .dataframe thead th {\n",
       "        text-align: right;\n",
       "    }\n",
       "</style>\n",
       "<table border=\"1\" class=\"dataframe\">\n",
       "  <thead>\n",
       "    <tr style=\"text-align: right;\">\n",
       "      <th></th>\n",
       "      <th>fecha_de_cargo</th>\n",
       "      <th>comercio</th>\n",
       "      <th>descripcion</th>\n",
       "      <th>categoria</th>\n",
       "      <th>monto</th>\n",
       "      <th>forma_de_pago</th>\n",
       "      <th>realizado_por</th>\n",
       "      <th>comentarios</th>\n",
       "      <th>limite_de_pago</th>\n",
       "      <th>deuda_a_plazos_recurrente_o_normal</th>\n",
       "    </tr>\n",
       "  </thead>\n",
       "  <tbody>\n",
       "    <tr>\n",
       "      <th>0</th>\n",
       "      <td>2024-09-30</td>\n",
       "      <td>Costco</td>\n",
       "      <td>Costco</td>\n",
       "      <td>Despensa</td>\n",
       "      <td>2585.35</td>\n",
       "      <td>Costco</td>\n",
       "      <td>David</td>\n",
       "      <td>Dia de madres</td>\n",
       "      <td>2024-11-04</td>\n",
       "      <td>Normal</td>\n",
       "    </tr>\n",
       "    <tr>\n",
       "      <th>1</th>\n",
       "      <td>2024-09-30</td>\n",
       "      <td>Heb</td>\n",
       "      <td>Heb despensa</td>\n",
       "      <td>Despensa</td>\n",
       "      <td>604.39</td>\n",
       "      <td>Costco</td>\n",
       "      <td>NaN</td>\n",
       "      <td></td>\n",
       "      <td>2024-11-04</td>\n",
       "      <td>Normal</td>\n",
       "    </tr>\n",
       "  </tbody>\n",
       "</table>\n",
       "</div>"
      ],
      "text/plain": [
       "  fecha_de_cargo comercio   descripcion categoria    monto forma_de_pago  \\\n",
       "0     2024-09-30   Costco        Costco  Despensa  2585.35        Costco   \n",
       "1     2024-09-30      Heb  Heb despensa  Despensa   604.39        Costco   \n",
       "\n",
       "  realizado_por    comentarios limite_de_pago  \\\n",
       "0         David  Dia de madres     2024-11-04   \n",
       "1           NaN                    2024-11-04   \n",
       "\n",
       "  deuda_a_plazos_recurrente_o_normal  \n",
       "0                             Normal  \n",
       "1                             Normal  "
      ]
     },
     "execution_count": 15,
     "metadata": {},
     "output_type": "execute_result"
    }
   ],
   "source": [
    "transactions_df"
   ]
  },
  {
   "cell_type": "code",
   "execution_count": 16,
   "metadata": {},
   "outputs": [],
   "source": [
    "%store -r plazos_df\n",
    "%store -r recurrentes_df"
   ]
  },
  {
   "cell_type": "code",
   "execution_count": 17,
   "metadata": {},
   "outputs": [],
   "source": [
    "all_spend_df = transactions_creator.pdconcat_wise(transactions_df, plazos_df)\n",
    "all_spend_df = transactions_creator.pdconcat_wise(all_spend_df, recurrentes_df)"
   ]
  },
  {
   "cell_type": "code",
   "execution_count": 18,
   "metadata": {},
   "outputs": [
    {
     "name": "stdout",
     "output_type": "stream",
     "text": [
      "Stored 'all_spend_df' (DataFrame)\n"
     ]
    }
   ],
   "source": [
    "%store all_spend_df"
   ]
  }
 ],
 "metadata": {
  "kernelspec": {
   "display_name": "myenv",
   "language": "python",
   "name": "python3"
  },
  "language_info": {
   "codemirror_mode": {
    "name": "ipython",
    "version": 3
   },
   "file_extension": ".py",
   "mimetype": "text/x-python",
   "name": "python",
   "nbconvert_exporter": "python",
   "pygments_lexer": "ipython3",
   "version": "3.10.13"
  },
  "orig_nbformat": 4
 },
 "nbformat": 4,
 "nbformat_minor": 2
}
