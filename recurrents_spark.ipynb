{
 "cells": [
  {
   "cell_type": "code",
   "execution_count": 1,
   "metadata": {},
   "outputs": [],
   "source": [
    "from pyspark.sql import SparkSession"
   ]
  },
  {
   "cell_type": "code",
   "execution_count": 2,
   "metadata": {},
   "outputs": [],
   "source": [
    "spark = SparkSession.builder.getOrCreate()"
   ]
  },
  {
   "cell_type": "code",
   "execution_count": 3,
   "metadata": {},
   "outputs": [],
   "source": [
    "cargos = spark.read.load(\"historial_cargos.csv\", delimiter = \",\", inferSchema=True, header = True, format = \"csv\")"
   ]
  },
  {
   "cell_type": "code",
   "execution_count": 4,
   "metadata": {},
   "outputs": [
    {
     "name": "stdout",
     "output_type": "stream",
     "text": [
      "+--------------+-----------------+--------------+-----+--------------+-------------+-------------+--------------+----------------------------------+\n",
      "|fecha_de_cargo|      descripcion|     categoria|monto| forma_de_pago|realizado_por|  comentarios|limite_de_pago|deuda_a_plazos_recurrente_o_normal|\n",
      "+--------------+-----------------+--------------+-----+--------------+-------------+-------------+--------------+----------------------------------+\n",
      "|    2024-05-10|      Flores Mamá| Regalos Otros|200.0|        Costco|        Aylin|Dia de madres|    2024-06-03|                            Normal|\n",
      "|    2024-05-09|      Flores Mamá| Regalos Otros|200.0|        Costco|        Aylin|Dia de madres|    2024-06-03|                            Normal|\n",
      "|    2024-05-17|Credito de nomina|Credito Nomina|500.0|Crédito Nomina|        David|         NULL|    2024-05-17|                            Plazos|\n",
      "|    2024-06-02|Credito de nomina|Credito Nomina|500.0|Crédito Nomina|        David|         NULL|    2024-06-02|                            Plazos|\n",
      "|    2024-06-17|Credito de nomina|Credito Nomina|500.0|Crédito Nomina|        David|         NULL|    2024-06-17|                            Plazos|\n",
      "|    2024-07-02|Credito de nomina|Credito Nomina|500.0|Crédito Nomina|        David|         NULL|    2024-07-02|                            Plazos|\n",
      "|    2024-07-17|Credito de nomina|Credito Nomina|500.0|Crédito Nomina|        David|         NULL|    2024-07-17|                            Plazos|\n",
      "|    2024-08-02|Credito de nomina|Credito Nomina|500.0|Crédito Nomina|        David|         NULL|    2024-08-02|                            Plazos|\n",
      "|    2024-08-17|Credito de nomina|Credito Nomina|500.0|Crédito Nomina|        David|         NULL|    2024-08-17|                            Plazos|\n",
      "|    2024-09-02|Credito de nomina|Credito Nomina|500.0|Crédito Nomina|        David|         NULL|    2024-09-02|                            Plazos|\n",
      "+--------------+-----------------+--------------+-----+--------------+-------------+-------------+--------------+----------------------------------+\n",
      "only showing top 10 rows\n",
      "\n"
     ]
    }
   ],
   "source": [
    "cargos.show(10)"
   ]
  },
  {
   "cell_type": "code",
   "execution_count": 5,
   "metadata": {},
   "outputs": [],
   "source": [
    "cargos.createOrReplaceTempView(\"cargos\")"
   ]
  },
  {
   "cell_type": "code",
   "execution_count": 6,
   "metadata": {},
   "outputs": [],
   "source": [
    "ingresos = spark.read.load(\"ingresos_recurrentes_detalle.csv\", delimiter = \",\", inferSchema=True, header = True, format = \"csv\")"
   ]
  },
  {
   "cell_type": "code",
   "execution_count": 7,
   "metadata": {},
   "outputs": [],
   "source": [
    "from pyspark.sql import functions as F"
   ]
  },
  {
   "cell_type": "code",
   "execution_count": 8,
   "metadata": {},
   "outputs": [],
   "source": [
    "ingresos = ingresos.filter(F.col(\"categoria\") == \"Salario\")"
   ]
  },
  {
   "cell_type": "code",
   "execution_count": 9,
   "metadata": {},
   "outputs": [],
   "source": [
    "ingresos.createOrReplaceTempView(\"ingresos\")"
   ]
  },
  {
   "cell_type": "code",
   "execution_count": 10,
   "metadata": {},
   "outputs": [],
   "source": [
    "spark.sql(\"\"\"\n",
    "        select \n",
    "            i.fecha_de_ingreso AS lower_salary_date,\n",
    "            i2.fecha_de_ingreso AS upper_salary_date\n",
    "          FROM ingresos AS i\n",
    "          LEFT JOIN ingresos AS i2\n",
    "            ON i.indice = i2.indice - 1\n",
    "        \n",
    "          \"\"\").createOrReplaceTempView(\"wage_date_range\")"
   ]
  },
  {
   "cell_type": "code",
   "execution_count": 16,
   "metadata": {},
   "outputs": [
    {
     "name": "stdout",
     "output_type": "stream",
     "text": [
      "+---------------------------------------------------+\n",
      "|tengo que borrar las tablas originales y recrearlas|\n",
      "+---------------------------------------------------+\n",
      "|                               tengo que borrar ...|\n",
      "+---------------------------------------------------+\n",
      "\n"
     ]
    }
   ],
   "source": [
    "spark.sql(\"\"\"\n",
    "        SELECT \"tengo que borrar las tablas originales y recrearlas\"\n",
    "        \n",
    "          \"\"\").show(30)"
   ]
  },
  {
   "cell_type": "code",
   "execution_count": 12,
   "metadata": {},
   "outputs": [
    {
     "name": "stdout",
     "output_type": "stream",
     "text": [
      "+--------------+-------------------+--------------+-----------------+--------------+-------------+-------------+--------------+----------------------------------+-----------------+-----------------+\n",
      "|fecha_de_cargo|        descripcion|     categoria|            monto| forma_de_pago|realizado_por|  comentarios|limite_de_pago|deuda_a_plazos_recurrente_o_normal|lower_salary_date|upper_salary_date|\n",
      "+--------------+-------------------+--------------+-----------------+--------------+-------------+-------------+--------------+----------------------------------+-----------------+-----------------+\n",
      "|    2024-02-29|Celular Samsung A54|  Electrónicos|555.5555555555555|         LikeU|        Aylin|         NULL|    2024-03-31|                            Plazos|       2024-03-29|       2024-04-14|\n",
      "|    2024-03-29|Celular Samsung A54|  Electrónicos|555.5555555555555|         LikeU|        Aylin|         NULL|    2024-05-01|                            Plazos|       2024-04-29|       2024-05-14|\n",
      "|    2024-05-17|  Credito de nomina|Credito Nomina|            500.0|Crédito Nomina|        David|         NULL|    2024-05-17|                            Plazos|       2024-05-14|       2024-05-29|\n",
      "|    2024-05-10|        Flores Mamá| Regalos Otros|            200.0|        Costco|        Aylin|Dia de madres|    2024-06-03|                            Normal|       2024-05-29|       2024-06-14|\n",
      "|    2024-05-09|        Flores Mamá| Regalos Otros|            200.0|        Costco|        Aylin|Dia de madres|    2024-06-03|                            Normal|       2024-05-29|       2024-06-14|\n",
      "|    2024-06-02|  Credito de nomina|Credito Nomina|            500.0|Crédito Nomina|        David|         NULL|    2024-06-02|                            Plazos|       2024-05-29|       2024-06-14|\n",
      "|    2024-04-29|Celular Samsung A54|  Electrónicos|555.5555555555555|         LikeU|        Aylin|         NULL|    2024-05-31|                            Plazos|       2024-05-29|       2024-06-14|\n",
      "|    2024-06-17|  Credito de nomina|Credito Nomina|            500.0|Crédito Nomina|        David|         NULL|    2024-06-17|                            Plazos|       2024-06-14|       2024-06-29|\n",
      "|    2024-07-02|  Credito de nomina|Credito Nomina|            500.0|Crédito Nomina|        David|         NULL|    2024-07-02|                            Plazos|       2024-06-29|       2024-07-14|\n",
      "|    2024-05-29|Celular Samsung A54|  Electrónicos|555.5555555555555|         LikeU|        Aylin|         NULL|    2024-07-01|                            Plazos|       2024-06-29|       2024-07-14|\n",
      "|    2024-07-17|  Credito de nomina|Credito Nomina|            500.0|Crédito Nomina|        David|         NULL|    2024-07-17|                            Plazos|       2024-07-14|       2024-07-29|\n",
      "|    2024-08-02|  Credito de nomina|Credito Nomina|            500.0|Crédito Nomina|        David|         NULL|    2024-08-02|                            Plazos|       2024-07-29|       2024-08-14|\n",
      "|    2024-06-29|Celular Samsung A54|  Electrónicos|555.5555555555555|         LikeU|        Aylin|         NULL|    2024-07-31|                            Plazos|       2024-07-29|       2024-08-14|\n",
      "|    2024-08-17|  Credito de nomina|Credito Nomina|            500.0|Crédito Nomina|        David|         NULL|    2024-08-17|                            Plazos|       2024-08-14|       2024-08-29|\n",
      "|    2024-09-02|  Credito de nomina|Credito Nomina|            500.0|Crédito Nomina|        David|         NULL|    2024-09-02|                            Plazos|       2024-08-29|       2024-09-14|\n",
      "|    2024-07-29|Celular Samsung A54|  Electrónicos|555.5555555555555|         LikeU|        Aylin|         NULL|    2024-08-31|                            Plazos|       2024-08-29|       2024-09-14|\n",
      "|    2024-09-17|  Credito de nomina|Credito Nomina|            500.0|Crédito Nomina|        David|         NULL|    2024-09-17|                            Plazos|       2024-09-14|       2024-09-29|\n",
      "|    2024-02-29|Celular Samsung A54|  Electrónicos|555.5555555555555|         LikeU|        Aylin|         NULL|    2024-03-31|                            Plazos|       2024-03-28|       2024-04-04|\n",
      "|    2024-03-29|Celular Samsung A54|  Electrónicos|555.5555555555555|         LikeU|        Aylin|         NULL|    2024-05-01|                            Plazos|       2024-04-25|       2024-05-02|\n",
      "|    2024-05-17|  Credito de nomina|Credito Nomina|            500.0|Crédito Nomina|        David|         NULL|    2024-05-17|                            Plazos|       2024-05-16|       2024-05-23|\n",
      "+--------------+-------------------+--------------+-----------------+--------------+-------------+-------------+--------------+----------------------------------+-----------------+-----------------+\n",
      "only showing top 20 rows\n",
      "\n"
     ]
    }
   ],
   "source": [
    "spark.sql(\"\"\"\n",
    "        \n",
    "        SELECT \n",
    "          * \n",
    "        FROM cargos AS c\n",
    "        LEFT JOIN wage_date_range AS dates\n",
    "          ON c.limite_de_pago > dates.lower_salary_date\n",
    "          AND c.limite_de_pago <= dates.upper_salary_date\n",
    "\"\"\").show()\n"
   ]
  },
  {
   "cell_type": "code",
   "execution_count": 13,
   "metadata": {},
   "outputs": [
    {
     "ename": "AnalysisException",
     "evalue": "[TABLE_OR_VIEW_NOT_FOUND] The table or view `gastos_ingresos` cannot be found. Verify the spelling and correctness of the schema and catalog.\nIf you did not qualify the name with a schema, verify the current_schema() output, or qualify the name with the correct schema and catalog.\nTo tolerate the error on drop use DROP VIEW IF EXISTS or DROP TABLE IF EXISTS.; line 5 pos 13;\n'Aggregate ['realizado_por, 'forma_de_pago, 'limite_de_pago, 'lower_salary_date], ['realizado_por, 'forma_de_pago, 'limite_de_pago, 'lower_salary_date, 'SUM('MONTO) AS Monto_Total#267]\n+- 'UnresolvedRelation [gastos_ingresos], [], false\n",
     "output_type": "error",
     "traceback": [
      "\u001b[1;31m---------------------------------------------------------------------------\u001b[0m",
      "\u001b[1;31mAnalysisException\u001b[0m                         Traceback (most recent call last)",
      "Cell \u001b[1;32mIn[13], line 1\u001b[0m\n\u001b[1;32m----> 1\u001b[0m \u001b[43mspark\u001b[49m\u001b[38;5;241;43m.\u001b[39;49m\u001b[43msql\u001b[49m\u001b[43m(\u001b[49m\u001b[38;5;124;43m\"\"\"\u001b[39;49m\n\u001b[0;32m      2\u001b[0m \u001b[38;5;124;43m        SELECT \u001b[39;49m\n\u001b[0;32m      3\u001b[0m \u001b[38;5;124;43m            realizado_por, forma_de_pago, limite_de_pago, lower_salary_date,\u001b[39;49m\n\u001b[0;32m      4\u001b[0m \u001b[38;5;124;43m            SUM(MONTO) AS Monto_Total\u001b[39;49m\n\u001b[0;32m      5\u001b[0m \u001b[38;5;124;43m        FROM gastos_ingresos\u001b[39;49m\n\u001b[0;32m      6\u001b[0m \u001b[38;5;124;43m        GROUP BY\u001b[39;49m\n\u001b[0;32m      7\u001b[0m \u001b[38;5;124;43m          realizado_por, forma_de_pago, limite_de_pago, lower_salary_date\u001b[39;49m\n\u001b[0;32m      8\u001b[0m \u001b[38;5;124;43m          \u001b[39;49m\u001b[38;5;124;43m\"\"\"\u001b[39;49m\u001b[43m)\u001b[49m\u001b[38;5;241m.\u001b[39mshow()\n",
      "File \u001b[1;32mc:\\Users\\David\\anaconda3\\envs\\myenv\\lib\\site-packages\\pyspark\\sql\\session.py:1631\u001b[0m, in \u001b[0;36mSparkSession.sql\u001b[1;34m(self, sqlQuery, args, **kwargs)\u001b[0m\n\u001b[0;32m   1627\u001b[0m         \u001b[38;5;28;01massert\u001b[39;00m \u001b[38;5;28mself\u001b[39m\u001b[38;5;241m.\u001b[39m_jvm \u001b[38;5;129;01mis\u001b[39;00m \u001b[38;5;129;01mnot\u001b[39;00m \u001b[38;5;28;01mNone\u001b[39;00m\n\u001b[0;32m   1628\u001b[0m         litArgs \u001b[38;5;241m=\u001b[39m \u001b[38;5;28mself\u001b[39m\u001b[38;5;241m.\u001b[39m_jvm\u001b[38;5;241m.\u001b[39mPythonUtils\u001b[38;5;241m.\u001b[39mtoArray(\n\u001b[0;32m   1629\u001b[0m             [_to_java_column(lit(v)) \u001b[38;5;28;01mfor\u001b[39;00m v \u001b[38;5;129;01min\u001b[39;00m (args \u001b[38;5;129;01mor\u001b[39;00m [])]\n\u001b[0;32m   1630\u001b[0m         )\n\u001b[1;32m-> 1631\u001b[0m     \u001b[38;5;28;01mreturn\u001b[39;00m DataFrame(\u001b[38;5;28;43mself\u001b[39;49m\u001b[38;5;241;43m.\u001b[39;49m\u001b[43m_jsparkSession\u001b[49m\u001b[38;5;241;43m.\u001b[39;49m\u001b[43msql\u001b[49m\u001b[43m(\u001b[49m\u001b[43msqlQuery\u001b[49m\u001b[43m,\u001b[49m\u001b[43m \u001b[49m\u001b[43mlitArgs\u001b[49m\u001b[43m)\u001b[49m, \u001b[38;5;28mself\u001b[39m)\n\u001b[0;32m   1632\u001b[0m \u001b[38;5;28;01mfinally\u001b[39;00m:\n\u001b[0;32m   1633\u001b[0m     \u001b[38;5;28;01mif\u001b[39;00m \u001b[38;5;28mlen\u001b[39m(kwargs) \u001b[38;5;241m>\u001b[39m \u001b[38;5;241m0\u001b[39m:\n",
      "File \u001b[1;32mc:\\Users\\David\\anaconda3\\envs\\myenv\\lib\\site-packages\\py4j\\java_gateway.py:1322\u001b[0m, in \u001b[0;36mJavaMember.__call__\u001b[1;34m(self, *args)\u001b[0m\n\u001b[0;32m   1316\u001b[0m command \u001b[38;5;241m=\u001b[39m proto\u001b[38;5;241m.\u001b[39mCALL_COMMAND_NAME \u001b[38;5;241m+\u001b[39m\\\n\u001b[0;32m   1317\u001b[0m     \u001b[38;5;28mself\u001b[39m\u001b[38;5;241m.\u001b[39mcommand_header \u001b[38;5;241m+\u001b[39m\\\n\u001b[0;32m   1318\u001b[0m     args_command \u001b[38;5;241m+\u001b[39m\\\n\u001b[0;32m   1319\u001b[0m     proto\u001b[38;5;241m.\u001b[39mEND_COMMAND_PART\n\u001b[0;32m   1321\u001b[0m answer \u001b[38;5;241m=\u001b[39m \u001b[38;5;28mself\u001b[39m\u001b[38;5;241m.\u001b[39mgateway_client\u001b[38;5;241m.\u001b[39msend_command(command)\n\u001b[1;32m-> 1322\u001b[0m return_value \u001b[38;5;241m=\u001b[39m \u001b[43mget_return_value\u001b[49m\u001b[43m(\u001b[49m\n\u001b[0;32m   1323\u001b[0m \u001b[43m    \u001b[49m\u001b[43manswer\u001b[49m\u001b[43m,\u001b[49m\u001b[43m \u001b[49m\u001b[38;5;28;43mself\u001b[39;49m\u001b[38;5;241;43m.\u001b[39;49m\u001b[43mgateway_client\u001b[49m\u001b[43m,\u001b[49m\u001b[43m \u001b[49m\u001b[38;5;28;43mself\u001b[39;49m\u001b[38;5;241;43m.\u001b[39;49m\u001b[43mtarget_id\u001b[49m\u001b[43m,\u001b[49m\u001b[43m \u001b[49m\u001b[38;5;28;43mself\u001b[39;49m\u001b[38;5;241;43m.\u001b[39;49m\u001b[43mname\u001b[49m\u001b[43m)\u001b[49m\n\u001b[0;32m   1325\u001b[0m \u001b[38;5;28;01mfor\u001b[39;00m temp_arg \u001b[38;5;129;01min\u001b[39;00m temp_args:\n\u001b[0;32m   1326\u001b[0m     \u001b[38;5;28;01mif\u001b[39;00m \u001b[38;5;28mhasattr\u001b[39m(temp_arg, \u001b[38;5;124m\"\u001b[39m\u001b[38;5;124m_detach\u001b[39m\u001b[38;5;124m\"\u001b[39m):\n",
      "File \u001b[1;32mc:\\Users\\David\\anaconda3\\envs\\myenv\\lib\\site-packages\\pyspark\\errors\\exceptions\\captured.py:185\u001b[0m, in \u001b[0;36mcapture_sql_exception.<locals>.deco\u001b[1;34m(*a, **kw)\u001b[0m\n\u001b[0;32m    181\u001b[0m converted \u001b[38;5;241m=\u001b[39m convert_exception(e\u001b[38;5;241m.\u001b[39mjava_exception)\n\u001b[0;32m    182\u001b[0m \u001b[38;5;28;01mif\u001b[39;00m \u001b[38;5;129;01mnot\u001b[39;00m \u001b[38;5;28misinstance\u001b[39m(converted, UnknownException):\n\u001b[0;32m    183\u001b[0m     \u001b[38;5;66;03m# Hide where the exception came from that shows a non-Pythonic\u001b[39;00m\n\u001b[0;32m    184\u001b[0m     \u001b[38;5;66;03m# JVM exception message.\u001b[39;00m\n\u001b[1;32m--> 185\u001b[0m     \u001b[38;5;28;01mraise\u001b[39;00m converted \u001b[38;5;28;01mfrom\u001b[39;00m \u001b[38;5;28;01mNone\u001b[39;00m\n\u001b[0;32m    186\u001b[0m \u001b[38;5;28;01melse\u001b[39;00m:\n\u001b[0;32m    187\u001b[0m     \u001b[38;5;28;01mraise\u001b[39;00m\n",
      "\u001b[1;31mAnalysisException\u001b[0m: [TABLE_OR_VIEW_NOT_FOUND] The table or view `gastos_ingresos` cannot be found. Verify the spelling and correctness of the schema and catalog.\nIf you did not qualify the name with a schema, verify the current_schema() output, or qualify the name with the correct schema and catalog.\nTo tolerate the error on drop use DROP VIEW IF EXISTS or DROP TABLE IF EXISTS.; line 5 pos 13;\n'Aggregate ['realizado_por, 'forma_de_pago, 'limite_de_pago, 'lower_salary_date], ['realizado_por, 'forma_de_pago, 'limite_de_pago, 'lower_salary_date, 'SUM('MONTO) AS Monto_Total#267]\n+- 'UnresolvedRelation [gastos_ingresos], [], false\n"
     ]
    }
   ],
   "source": [
    "spark.sql(\"\"\"\n",
    "        SELECT \n",
    "            realizado_por, forma_de_pago, limite_de_pago, lower_salary_date,\n",
    "            SUM(MONTO) AS Monto_Total\n",
    "        FROM gastos_ingresos\n",
    "        GROUP BY\n",
    "          realizado_por, forma_de_pago, limite_de_pago, lower_salary_date\n",
    "          \"\"\").show()"
   ]
  }
 ],
 "metadata": {
  "kernelspec": {
   "display_name": "myenv",
   "language": "python",
   "name": "python3"
  },
  "language_info": {
   "codemirror_mode": {
    "name": "ipython",
    "version": 3
   },
   "file_extension": ".py",
   "mimetype": "text/x-python",
   "name": "python",
   "nbconvert_exporter": "python",
   "pygments_lexer": "ipython3",
   "version": "3.10.13"
  }
 },
 "nbformat": 4,
 "nbformat_minor": 2
}
