{
 "cells": [
  {
   "cell_type": "code",
   "execution_count": 1,
   "metadata": {},
   "outputs": [
    {
     "data": {
      "text/plain": [
       "datetime.datetime(1969, 12, 31, 18, 0, 10)"
      ]
     },
     "execution_count": 1,
     "metadata": {},
     "output_type": "execute_result"
    }
   ],
   "source": [
    "import datetime\n",
    "\n",
    "datetime.datetime.fromtimestamp(10)"
   ]
  },
  {
   "cell_type": "code",
   "execution_count": 1,
   "metadata": {},
   "outputs": [],
   "source": [
    "import pandas as pd"
   ]
  },
  {
   "cell_type": "code",
   "execution_count": 2,
   "metadata": {},
   "outputs": [],
   "source": [
    "fecha_de_transaccion = pd.to_datetime(\"2024-04-28\", format=\"%Y-%m-%d\")\n",
    "fecha_de_inicio = fecha_de_transaccion\n",
    "numero_de_plazos = 12 # casi siempre será el mismo\n",
    "dias_de_margen = 0 # solo aplica para semanal, catorcenal, quincenal\n",
    "mes_de_cobro = fecha_de_inicio.month - 1\n",
    "dia_de_cobro = fecha_de_inicio.day - 1"
   ]
  },
  {
   "cell_type": "code",
   "execution_count": 3,
   "metadata": {},
   "outputs": [
    {
     "name": "stdout",
     "output_type": "stream",
     "text": [
      "DatetimeIndex(['2024-04-28', '2024-05-05', '2024-05-12', '2024-05-19',\n",
      "               '2024-05-26', '2024-06-02', '2024-06-09', '2024-06-16',\n",
      "               '2024-06-23', '2024-06-30', '2024-07-07', '2024-07-14'],\n",
      "              dtype='datetime64[ns]', freq=None)\n"
     ]
    }
   ],
   "source": [
    "frecuencia_de_pago = \"semanal\"\n",
    "if frecuencia_de_pago == \"semanal\":\n",
    "    installment_dates = pd.date_range(start = fecha_de_inicio, periods = numero_de_plazos, freq = \"7D\") + pd.DateOffset(days=dias_de_margen)\n",
    "print(installment_dates)"
   ]
  },
  {
   "cell_type": "code",
   "execution_count": 4,
   "metadata": {},
   "outputs": [
    {
     "name": "stdout",
     "output_type": "stream",
     "text": [
      "DatetimeIndex(['2024-04-28', '2024-05-12', '2024-05-26', '2024-06-09',\n",
      "               '2024-06-23', '2024-07-07', '2024-07-21', '2024-08-04',\n",
      "               '2024-08-18', '2024-09-01', '2024-09-15', '2024-09-29'],\n",
      "              dtype='datetime64[ns]', freq=None)\n"
     ]
    }
   ],
   "source": [
    "frecuencia_de_pago = \"catorcenal\"\n",
    "if frecuencia_de_pago == \"catorcenal\":\n",
    "    installment_dates = pd.date_range(start = fecha_de_inicio, periods = numero_de_plazos, freq = \"14D\") + pd.DateOffset(days=dias_de_margen)\n",
    "print(installment_dates)"
   ]
  },
  {
   "cell_type": "code",
   "execution_count": 5,
   "metadata": {},
   "outputs": [
    {
     "name": "stdout",
     "output_type": "stream",
     "text": [
      "DatetimeIndex(['2024-04-30', '2024-05-15', '2024-05-31', '2024-06-15',\n",
      "               '2024-06-30', '2024-07-15', '2024-07-31', '2024-08-15',\n",
      "               '2024-08-31', '2024-09-15', '2024-09-30', '2024-10-15'],\n",
      "              dtype='datetime64[ns]', freq=None)\n"
     ]
    }
   ],
   "source": [
    "frecuencia_de_pago = \"quincenal\"\n",
    "if frecuencia_de_pago == \"quincenal\":\n",
    "    installment_dates = pd.date_range(start = fecha_de_inicio, periods = numero_de_plazos, freq = \"SME\") + pd.DateOffset(days=dias_de_margen)\n",
    "print(installment_dates)"
   ]
  },
  {
   "cell_type": "code",
   "execution_count": 6,
   "metadata": {},
   "outputs": [
    {
     "name": "stdout",
     "output_type": "stream",
     "text": [
      "DatetimeIndex(['2024-04-28', '2024-05-28', '2024-06-28', '2024-07-28',\n",
      "               '2024-08-28', '2024-09-28', '2024-10-28', '2024-11-28',\n",
      "               '2024-12-28', '2025-01-28', '2025-02-28', '2025-03-28'],\n",
      "              dtype='datetime64[ns]', freq=None)\n"
     ]
    }
   ],
   "source": [
    "frecuencia_de_pago = \"mensual\"\n",
    "if frecuencia_de_pago == \"mensual\":\n",
    "    installment_dates = pd.date_range(\n",
    "        start = f\"{fecha_de_inicio.year}-{fecha_de_inicio.month}-01\", \n",
    "        periods = numero_de_plazos, \n",
    "        freq = \"MS\"\n",
    "    ) + pd.DateOffset(days=dia_de_cobro)\n",
    "print(installment_dates)"
   ]
  },
  {
   "cell_type": "code",
   "execution_count": 7,
   "metadata": {},
   "outputs": [
    {
     "name": "stdout",
     "output_type": "stream",
     "text": [
      "DatetimeIndex(['2024-04-28', '2024-06-28', '2024-08-28', '2024-10-28',\n",
      "               '2024-12-28', '2025-02-28', '2025-04-28', '2025-06-28',\n",
      "               '2025-08-28', '2025-10-28', '2025-12-28', '2026-02-28'],\n",
      "              dtype='datetime64[ns]', freq=None)\n"
     ]
    }
   ],
   "source": [
    "frecuencia_de_pago = \"bimestral\"\n",
    "if frecuencia_de_pago == \"bimestral\":\n",
    "    installment_dates = pd.date_range(\n",
    "        start = pd.to_datetime(f\"{fecha_de_inicio.year}-{fecha_de_inicio.month}-01\", format=\"%Y-%m-%d\"), \n",
    "        periods = numero_de_plazos, \n",
    "        freq = \"2MS\"\n",
    "        ) + pd.DateOffset(days=dia_de_cobro)\n",
    "print(installment_dates)"
   ]
  },
  {
   "cell_type": "code",
   "execution_count": 8,
   "metadata": {},
   "outputs": [
    {
     "name": "stdout",
     "output_type": "stream",
     "text": [
      "DatetimeIndex(['2024-04-28', '2024-08-28', '2024-12-28', '2025-04-28',\n",
      "               '2025-08-28', '2025-12-28', '2026-04-28', '2026-08-28',\n",
      "               '2026-12-28', '2027-04-28', '2027-08-28', '2027-12-28'],\n",
      "              dtype='datetime64[ns]', freq=None)\n"
     ]
    }
   ],
   "source": [
    "frecuencia_de_pago = \"tetramestral\"\n",
    "if frecuencia_de_pago == \"tetramestral\":\n",
    "    installment_dates = pd.date_range(\n",
    "        start = pd.to_datetime(f\"{fecha_de_inicio.year}-{fecha_de_inicio.month}-01\", format=\"%Y-%m-%d\"), \n",
    "        periods = numero_de_plazos, \n",
    "        freq = \"4MS\"\n",
    "        ) + pd.DateOffset(days=dia_de_cobro)\n",
    "print(installment_dates)"
   ]
  },
  {
   "cell_type": "code",
   "execution_count": 9,
   "metadata": {},
   "outputs": [
    {
     "name": "stdout",
     "output_type": "stream",
     "text": [
      "DatetimeIndex(['2024-04-28', '2024-10-28', '2025-04-28', '2025-10-28',\n",
      "               '2026-04-28', '2026-10-28', '2027-04-28', '2027-10-28',\n",
      "               '2028-04-28', '2028-10-28', '2029-04-28', '2029-10-28'],\n",
      "              dtype='datetime64[ns]', freq=None)\n"
     ]
    }
   ],
   "source": [
    "frecuencia_de_pago = \"semestral\"\n",
    "if frecuencia_de_pago == \"semestral\":\n",
    "    installment_dates = pd.date_range(\n",
    "        start = pd.to_datetime(f\"{fecha_de_inicio.year}-{fecha_de_inicio.month}-01\", format=\"%Y-%m-%d\"), \n",
    "        periods = numero_de_plazos, \n",
    "        freq = \"6MS\"\n",
    "        ) + pd.DateOffset(days=dia_de_cobro)\n",
    "print(installment_dates)"
   ]
  },
  {
   "cell_type": "code",
   "execution_count": 10,
   "metadata": {},
   "outputs": [
    {
     "name": "stdout",
     "output_type": "stream",
     "text": [
      "DatetimeIndex(['2026-04-28', '2027-04-28', '2028-04-28', '2029-04-28',\n",
      "               '2030-04-28', '2031-04-28', '2032-04-28', '2033-04-28',\n",
      "               '2034-04-28', '2035-04-28', '2036-04-28', '2037-04-28'],\n",
      "              dtype='datetime64[ns]', freq=None)\n"
     ]
    }
   ],
   "source": [
    "frecuencia_de_pago = \"anual\"\n",
    "if frecuencia_de_pago == \"anual\":\n",
    "    fecha_de_inicio = pd.to_datetime(\"2025-04-30\", format=\"%Y-%m-%d\")\n",
    "    installment_dates = pd.date_range(\n",
    "        start = pd.to_datetime(f\"{fecha_de_inicio.year}-{fecha_de_inicio.month}-01\", format=\"%Y-%m-%d\"), \n",
    "        periods = numero_de_plazos, \n",
    "        freq = \"YS\"\n",
    "        ) + pd.DateOffset(months = mes_de_cobro, days=dia_de_cobro)\n",
    "print(installment_dates)"
   ]
  },
  {
   "cell_type": "code",
   "execution_count": 1,
   "metadata": {},
   "outputs": [],
   "source": [
    "from f1_transformations import F1_Transformations"
   ]
  },
  {
   "cell_type": "code",
   "execution_count": 2,
   "metadata": {},
   "outputs": [
    {
     "name": "stdout",
     "output_type": "stream",
     "text": [
      "Do transformation for entity circuits in column alt\n"
     ]
    },
    {
     "data": {
      "text/plain": [
       "{'circuits': {'schema': {'circuitId': IntegerType(),\n",
       "   'circuitRef': StringType(),\n",
       "   'name': StringType(),\n",
       "   'location': StringType(),\n",
       "   'country': StringType(),\n",
       "   'lat': DoubleType(),\n",
       "   'lng': DoubleType(),\n",
       "   'alt': DoubleType(),\n",
       "   'url': StringType()},\n",
       "  'silver_name': 'silver.circuits',\n",
       "  'gold_name': 'DimCircuits',\n",
       "  'hive_metastore_silver_path': 'dbfs:/user/hive/warehouse/silver.db/silver.circuits',\n",
       "  'hive_metastore_gold_path': 'dbfs:/user/hive/warehouse/gold.db/DimCircuits',\n",
       "  'blob_bronce_path': '/mnt/bronce/circuits.csv',\n",
       "  'blob_silver_path': '/mnt/silver/circuits.parquet',\n",
       "  'blob_gold_path': '/mnt/gold/circuits.parquet',\n",
       "  'is_dim': True},\n",
       " 'seasons': {'schema': {'year': IntegerType(), 'url': StringType()},\n",
       "  'silver_name': 'silver.seasons',\n",
       "  'gold_name': 'DimSeasons',\n",
       "  'hive_metastore_silver_path': 'dbfs:/user/hive/warehouse/silver.db/silver.seasons',\n",
       "  'hive_metastore_gold_path': 'dbfs:/user/hive/warehouse/gold.db/DimSeasons',\n",
       "  'blob_bronce_path': '/mnt/bronce/seasons.csv',\n",
       "  'blob_silver_path': '/mnt/silver/seasons.parquet',\n",
       "  'blob_gold_path': '/mnt/gold/seasons.parquet',\n",
       "  'is_dim': True},\n",
       " 'races': {'schema': '',\n",
       "  'silver_name': 'silver.races',\n",
       "  'gold_name': 'DimRaces',\n",
       "  'hive_metastore_silver_path': 'dbfs:/user/hive/warehouse/silver.db/silver.races',\n",
       "  'hive_metastore_gold_path': 'dbfs:/user/hive/warehouse/gold.db/DimRaces',\n",
       "  'blob_bronce_path': '/mnt/bronce/races.csv',\n",
       "  'blob_silver_path': '/mnt/silver/races.parquet',\n",
       "  'blob_gold_path': '/mnt/gold/races.parquet',\n",
       "  'is_dim': True},\n",
       " 'constructors': {'schema': '',\n",
       "  'silver_name': 'silver.constructors',\n",
       "  'gold_name': 'DimConstructors',\n",
       "  'hive_metastore_silver_path': 'dbfs:/user/hive/warehouse/silver.db/silver.constructors',\n",
       "  'hive_metastore_gold_path': 'dbfs:/user/hive/warehouse/gold.db/DimConstructors',\n",
       "  'blob_bronce_path': '/mnt/bronce/constructors.csv',\n",
       "  'blob_silver_path': '/mnt/silver/constructors.parquet',\n",
       "  'blob_gold_path': '/mnt/gold/constructors.parquet',\n",
       "  'is_dim': True},\n",
       " 'drivers': {'schema': '',\n",
       "  'silver_name': 'silver.drivers',\n",
       "  'gold_name': 'DimDrivers',\n",
       "  'hive_metastore_silver_path': 'dbfs:/user/hive/warehouse/silver.db/silver.drivers',\n",
       "  'hive_metastore_gold_path': 'dbfs:/user/hive/warehouse/gold.db/DimDrivers',\n",
       "  'blob_bronce_path': '/mnt/bronce/drivers.csv',\n",
       "  'blob_silver_path': '/mnt/silver/drivers.parquet',\n",
       "  'blob_gold_path': '/mnt/gold/drivers.parquet',\n",
       "  'is_dim': True},\n",
       " 'status': {'schema': '',\n",
       "  'silver_name': 'silver.status',\n",
       "  'gold_name': 'DimStatus',\n",
       "  'hive_metastore_silver_path': 'dbfs:/user/hive/warehouse/silver.db/silver.status',\n",
       "  'hive_metastore_gold_path': 'dbfs:/user/hive/warehouse/gold.db/DimStatus',\n",
       "  'blob_bronce_path': '/mnt/bronce/status.csv',\n",
       "  'blob_silver_path': '/mnt/silver/status.parquet',\n",
       "  'blob_gold_path': '/mnt/gold/status.parquet',\n",
       "  'is_dim': True},\n",
       " 'driver_standings': {'schema': '',\n",
       "  'silver_name': 'silver.driver_standings',\n",
       "  'gold_name': 'FactDriver_standings',\n",
       "  'hive_metastore_silver_path': 'dbfs:/user/hive/warehouse/silver.db/silver.driver_standings',\n",
       "  'hive_metastore_gold_path': 'dbfs:/user/hive/warehouse/gold.db/FactDriver_standings',\n",
       "  'blob_bronce_path': '/mnt/bronce/driver_standings.csv',\n",
       "  'blob_silver_path': '/mnt/silver/driver_standings.parquet',\n",
       "  'blob_gold_path': '/mnt/gold/driver_standings.parquet',\n",
       "  'is_dim': False},\n",
       " 'constructor_results': {'schema': '',\n",
       "  'silver_name': 'silver.constructor_results',\n",
       "  'gold_name': 'FactConstructor_results',\n",
       "  'hive_metastore_silver_path': 'dbfs:/user/hive/warehouse/silver.db/silver.constructor_results',\n",
       "  'hive_metastore_gold_path': 'dbfs:/user/hive/warehouse/gold.db/FactConstructor_results',\n",
       "  'blob_bronce_path': '/mnt/bronce/constructor_results.csv',\n",
       "  'blob_silver_path': '/mnt/silver/constructor_results.parquet',\n",
       "  'blob_gold_path': '/mnt/gold/constructor_results.parquet',\n",
       "  'is_dim': False},\n",
       " 'constructor_standings': {'schema': '',\n",
       "  'silver_name': 'silver.constructor_standings',\n",
       "  'gold_name': 'FactConstructor_standings',\n",
       "  'hive_metastore_silver_path': 'dbfs:/user/hive/warehouse/silver.db/silver.constructor_standings',\n",
       "  'hive_metastore_gold_path': 'dbfs:/user/hive/warehouse/gold.db/FactConstructor_standings',\n",
       "  'blob_bronce_path': '/mnt/bronce/constructor_standings.csv',\n",
       "  'blob_silver_path': '/mnt/silver/constructor_standings.parquet',\n",
       "  'blob_gold_path': '/mnt/gold/constructor_standings.parquet',\n",
       "  'is_dim': False},\n",
       " 'results': {'schema': '',\n",
       "  'silver_name': 'silver.results',\n",
       "  'gold_name': 'FactResults',\n",
       "  'hive_metastore_silver_path': 'dbfs:/user/hive/warehouse/silver.db/silver.results',\n",
       "  'hive_metastore_gold_path': 'dbfs:/user/hive/warehouse/gold.db/FactResults',\n",
       "  'blob_bronce_path': '/mnt/bronce/results.csv',\n",
       "  'blob_silver_path': '/mnt/silver/results.parquet',\n",
       "  'blob_gold_path': '/mnt/gold/results.parquet',\n",
       "  'is_dim': False},\n",
       " 'pit_stops': {'schema': '',\n",
       "  'silver_name': 'silver.pit_stops',\n",
       "  'gold_name': 'FactPit_stops',\n",
       "  'hive_metastore_silver_path': 'dbfs:/user/hive/warehouse/silver.db/silver.pit_stops',\n",
       "  'hive_metastore_gold_path': 'dbfs:/user/hive/warehouse/gold.db/FactPit_stops',\n",
       "  'blob_bronce_path': '/mnt/bronce/pit_stops.csv',\n",
       "  'blob_silver_path': '/mnt/silver/pit_stops.parquet',\n",
       "  'blob_gold_path': '/mnt/gold/pit_stops.parquet',\n",
       "  'is_dim': False},\n",
       " 'lap_times': {'schema': '',\n",
       "  'silver_name': 'silver.lap_times',\n",
       "  'gold_name': 'FactLap_times',\n",
       "  'hive_metastore_silver_path': 'dbfs:/user/hive/warehouse/silver.db/silver.lap_times',\n",
       "  'hive_metastore_gold_path': 'dbfs:/user/hive/warehouse/gold.db/FactLap_times',\n",
       "  'blob_bronce_path': '/mnt/bronce/lap_times.csv',\n",
       "  'blob_silver_path': '/mnt/silver/lap_times.parquet',\n",
       "  'blob_gold_path': '/mnt/gold/lap_times.parquet',\n",
       "  'is_dim': False},\n",
       " 'sprint_results': {'schema': '',\n",
       "  'silver_name': 'silver.sprint_results',\n",
       "  'gold_name': 'FactSprint_results',\n",
       "  'hive_metastore_silver_path': 'dbfs:/user/hive/warehouse/silver.db/silver.sprint_results',\n",
       "  'hive_metastore_gold_path': 'dbfs:/user/hive/warehouse/gold.db/FactSprint_results',\n",
       "  'blob_bronce_path': '/mnt/bronce/sprint_results.csv',\n",
       "  'blob_silver_path': '/mnt/silver/sprint_results.parquet',\n",
       "  'blob_gold_path': '/mnt/gold/sprint_results.parquet',\n",
       "  'is_dim': False},\n",
       " 'qualifying': {'schema': '',\n",
       "  'silver_name': 'silver.qualifying',\n",
       "  'gold_name': 'FactQualifying',\n",
       "  'hive_metastore_silver_path': 'dbfs:/user/hive/warehouse/silver.db/silver.qualifying',\n",
       "  'hive_metastore_gold_path': 'dbfs:/user/hive/warehouse/gold.db/FactQualifying',\n",
       "  'blob_bronce_path': '/mnt/bronce/qualifying.csv',\n",
       "  'blob_silver_path': '/mnt/silver/qualifying.parquet',\n",
       "  'blob_gold_path': '/mnt/gold/qualifying.parquet',\n",
       "  'is_dim': False}}"
      ]
     },
     "execution_count": 2,
     "metadata": {},
     "output_type": "execute_result"
    }
   ],
   "source": [
    "myent = F1_Transformations()\n",
    "myent.transformations['circuits'].add('alt')\n",
    "\n",
    "for entities, columns in myent.transformations.items():\n",
    "    if 'circuits' in entities and 'alt' in columns:\n",
    "        print(f'Do transformation for entity {entities} in column ''alt')\n",
    "\n",
    "myent.entities"
   ]
  }
 ],
 "metadata": {
  "kernelspec": {
   "display_name": "base",
   "language": "python",
   "name": "python3"
  },
  "language_info": {
   "codemirror_mode": {
    "name": "ipython",
    "version": 3
   },
   "file_extension": ".py",
   "mimetype": "text/x-python",
   "name": "python",
   "nbconvert_exporter": "python",
   "pygments_lexer": "ipython3",
   "version": "3.10.10"
  },
  "orig_nbformat": 4
 },
 "nbformat": 4,
 "nbformat_minor": 2
}
