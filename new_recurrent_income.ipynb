{
 "cells": [
  {
   "cell_type": "code",
   "execution_count": 308,
   "metadata": {},
   "outputs": [],
   "source": [
    "import pandas as pd"
   ]
  },
  {
   "cell_type": "code",
   "execution_count": 309,
   "metadata": {},
   "outputs": [],
   "source": [
    "excel_dbfs_path = f\"./david_finance.xlsx\"\n",
    "sheet_name = f\"ingresos_recurrentes\""
   ]
  },
  {
   "cell_type": "code",
   "execution_count": 310,
   "metadata": {},
   "outputs": [],
   "source": [
    "dfp = pd.read_excel(excel_dbfs_path, engine = \"openpyxl\", sheet_name = sheet_name, dtype = {\"ingreso_por_evento\":'float'})"
   ]
  },
  {
   "cell_type": "code",
   "execution_count": 311,
   "metadata": {},
   "outputs": [],
   "source": [
    "class RecurrentIncome:\n",
    "    def __init__(\n",
    "            self, \n",
    "            df: pd.DataFrame = None, \n",
    "            start_date: str = \"fecha_de_inicio\", \n",
    "            periods: str = \"cantidad_de_frecuencias\", \n",
    "            frequency: str = \"frecuencia_de_ingreso\",\n",
    "            valid_frequencies = [\"semanal\", \"catorcenal\", \"quincenal\", \"mensual\", \"bimestral\", \"trimestral\", \"tetramestral\", \"semestral\", \"anual\"]\n",
    "    ):\n",
    "        self.start_date = start_date\n",
    "        self.periods = periods\n",
    "        self.frequency = frequency\n",
    "        self.valid_frequencies = valid_frequencies\n",
    "        self.df = df\n",
    "        self.empty_recurrents_df = pd.DataFrame(\n",
    "                        columns=['fecha_de_ingreso' ,\n",
    "                                'ingreso_por_evento', \n",
    "                                'cuenta_destino', \n",
    "                                'descripcion', \n",
    "                                'categoria', \n",
    "                                'realizado_por', \n",
    "                                'ingreso_recurrente_o_extraoridinario', \n",
    "                                'comentarios'\n",
    "                                ])\n",
    "                        \n",
    "        \n",
    "        self.condition_blank_comment = lambda text: text if text == text else \"\"\n",
    "    \n",
    "    def pdconcat_wise(self, base_df: pd.DataFrame, concat_df: pd.DataFrame) -> pd.DataFrame:\n",
    "        if concat_df is None:\n",
    "            return base_df\n",
    "        elif len(base_df) > 0:\n",
    "            return pd.concat(\n",
    "                        [\n",
    "                            base_df,\n",
    "                            concat_df\n",
    "                        ],\n",
    "                            ignore_index=True\n",
    "                    )\n",
    "        else:\n",
    "            return concat_df\n",
    "\n",
    "    def create_nthly_recurrents(self,row, date_range)-> pd.DataFrame:\n",
    "        return  pd.DataFrame(\n",
    "            data= {'freq': range(len(date_range)),\n",
    "                    'fecha_de_ingreso': date_range,\n",
    "                    'ingreso_por_evento': row[\"ingreso_por_evento\"], \n",
    "                    'cuenta_destino': row[\"cuenta_destino\"],\n",
    "                    'descripcion': self.condition_blank_comment(row[\"descripcion\"]), \n",
    "                    'categoria':  row[\"categoria\"], \n",
    "                    'realizado_por': row[\"realizado_por\"],\n",
    "                    'ingreso_recurrente_o_extraoridinario': \"Recurrente\", \n",
    "                    'comentarios': self.condition_blank_comment(row[\"comentarios\"])\n",
    "                    }\n",
    "                )\n",
    "    \n",
    "    def get_income_details(self) -> pd.DataFrame:\n",
    "        frequency_set = set(self.df[self.frequency])\n",
    "        df_recurrents_cum = self.empty_recurrents_df\n",
    "        if self.valid_frequencies[0] in frequency_set: # semanal\n",
    "            current_df = self.df.loc[self.df[self.frequency] == self.valid_frequencies[0]]\n",
    "            for _,row in current_df.iterrows():\n",
    "                # create date range per row\n",
    "                date_range = pd.date_range(start = row[self.start_date], periods = row[self.periods], freq = \"7D\")\n",
    "                # based on date range, creates detailed rows from the main row and concat to the cum recurrents\n",
    "                df_recurrents_cum = self.pdconcat_wise(df_recurrents_cum, self.create_nthly_recurrents(row, date_range))\n",
    "\n",
    "        if self.valid_frequencies[2] in frequency_set: # quincenal\n",
    "            current_df = self.df.loc[self.df[self.frequency] == self.valid_frequencies[2]]\n",
    "            for _,row in current_df.iterrows():\n",
    "                # for my semi monthly pays that are 14 and 29 I need to create two monthly dateranges and then alternate their values\n",
    "                date_range_1 = pd.date_range(\n",
    "                    start = f\"{row['fecha_de_inicio'].year}-{row['fecha_de_inicio'].month}-01\", \n",
    "                    periods = row[\"cantidad_de_frecuencias\"] // 2, \n",
    "                    freq = \"MS\"\n",
    "                ) + pd.DateOffset(days=row['fecha_de_inicio'].day - 1)\n",
    "\n",
    "                date_range_2 = pd.date_range(\n",
    "                    start = f\"{row['fecha_de_inicio'].year}-{row['fecha_de_inicio'].month}-01\", \n",
    "                    periods = row[\"cantidad_de_frecuencias\"] // 2, \n",
    "                    freq = \"MS\"\n",
    "                ) + pd.DateOffset(days=row['fecha_de_inicio'].day + 14)\n",
    "\n",
    "                date_range = [val for pair in zip(date_range_1, date_range_2) for val in pair]\n",
    "                date_range = pd.to_datetime(date_range)\n",
    "\n",
    "                # based on date range, creates detailed rows from the main row and concat to the cum recurrents\n",
    "                df_recurrents_cum = self.pdconcat_wise(df_recurrents_cum, self.create_nthly_recurrents(row, date_range)) \n",
    "        return df_recurrents_cum\n",
    "    \n",
    "    \n",
    "        "
   ]
  },
  {
   "cell_type": "code",
   "execution_count": 312,
   "metadata": {},
   "outputs": [],
   "source": [
    "recurrent_incomes = RecurrentIncome(dfp)"
   ]
  },
  {
   "cell_type": "code",
   "execution_count": 313,
   "metadata": {},
   "outputs": [],
   "source": [
    "new_recurrent_incomes = recurrent_incomes.get_income_details()"
   ]
  },
  {
   "cell_type": "code",
   "execution_count": 314,
   "metadata": {},
   "outputs": [],
   "source": [
    "new_recurrent_incomes.index.name = \"indice\"\n",
    "new_recurrent_incomes.to_csv(\"ingresos_recurrentes_detalle.csv\", encoding=\"utf-8-sig\")"
   ]
  },
  {
   "cell_type": "code",
   "execution_count": 315,
   "metadata": {},
   "outputs": [],
   "source": [
    "actual_recurrent_incomes = pd.read_excel(excel_dbfs_path, engine = \"openpyxl\", sheet_name = \"ingresos_recurrentes_detalle\", dtype = {\"monto_total_deuda\":'float'}, na_filter=False, index_col=\"indice\")"
   ]
  },
  {
   "cell_type": "code",
   "execution_count": 316,
   "metadata": {},
   "outputs": [
    {
     "data": {
      "text/html": [
       "<div>\n",
       "<style scoped>\n",
       "    .dataframe tbody tr th:only-of-type {\n",
       "        vertical-align: middle;\n",
       "    }\n",
       "\n",
       "    .dataframe tbody tr th {\n",
       "        vertical-align: top;\n",
       "    }\n",
       "\n",
       "    .dataframe thead th {\n",
       "        text-align: right;\n",
       "    }\n",
       "</style>\n",
       "<table border=\"1\" class=\"dataframe\">\n",
       "  <thead>\n",
       "    <tr style=\"text-align: right;\">\n",
       "      <th></th>\n",
       "      <th>freq</th>\n",
       "      <th>fecha_de_ingreso</th>\n",
       "      <th>ingreso_por_evento</th>\n",
       "      <th>cuenta_destino</th>\n",
       "      <th>descripcion</th>\n",
       "      <th>categoria</th>\n",
       "      <th>realizado_por</th>\n",
       "      <th>ingreso_recurrente_o_extraoridinario</th>\n",
       "      <th>comentarios</th>\n",
       "    </tr>\n",
       "    <tr>\n",
       "      <th>indice</th>\n",
       "      <th></th>\n",
       "      <th></th>\n",
       "      <th></th>\n",
       "      <th></th>\n",
       "      <th></th>\n",
       "      <th></th>\n",
       "      <th></th>\n",
       "      <th></th>\n",
       "      <th></th>\n",
       "    </tr>\n",
       "  </thead>\n",
       "  <tbody>\n",
       "  </tbody>\n",
       "</table>\n",
       "</div>"
      ],
      "text/plain": [
       "Empty DataFrame\n",
       "Columns: [freq, fecha_de_ingreso, ingreso_por_evento, cuenta_destino, descripcion, categoria, realizado_por, ingreso_recurrente_o_extraoridinario, comentarios]\n",
       "Index: []"
      ]
     },
     "metadata": {},
     "output_type": "display_data"
    }
   ],
   "source": [
    "display(actual_recurrent_incomes)"
   ]
  },
  {
   "cell_type": "code",
   "execution_count": 317,
   "metadata": {},
   "outputs": [],
   "source": [
    "dups_criteria_list = [\"fecha_de_ingreso\", \"descripcion\", \"categoria\", \"cuenta_destino\", \"realizado_por\"]"
   ]
  },
  {
   "cell_type": "code",
   "execution_count": 318,
   "metadata": {},
   "outputs": [],
   "source": [
    "recurrent_incomme_updated = RecurrentIncome().pdconcat_wise(actual_recurrent_incomes, new_recurrent_incomes).drop_duplicates(dups_criteria_list, keep=\"first\")"
   ]
  },
  {
   "cell_type": "code",
   "execution_count": 319,
   "metadata": {},
   "outputs": [],
   "source": [
    "recurrent_incomme_updated.index.name = \"indice\"\n",
    "recurrent_incomme_updated.to_csv(\"ingresos_recurrentes_detalle.csv\", encoding=\"utf-8-sig\")"
   ]
  },
  {
   "cell_type": "code",
   "execution_count": 320,
   "metadata": {},
   "outputs": [
    {
     "name": "stdout",
     "output_type": "stream",
     "text": [
      "Stored 'recurrent_incomme_updated' (DataFrame)\n"
     ]
    }
   ],
   "source": [
    "%store recurrent_incomme_updated"
   ]
  }
 ],
 "metadata": {
  "kernelspec": {
   "display_name": "myenv",
   "language": "python",
   "name": "python3"
  },
  "language_info": {
   "codemirror_mode": {
    "name": "ipython",
    "version": 3
   },
   "file_extension": ".py",
   "mimetype": "text/x-python",
   "name": "python",
   "nbconvert_exporter": "python",
   "pygments_lexer": "ipython3",
   "version": "3.10.13"
  }
 },
 "nbformat": 4,
 "nbformat_minor": 2
}
