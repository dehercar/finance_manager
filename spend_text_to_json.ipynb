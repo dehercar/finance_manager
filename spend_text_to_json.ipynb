{
 "cells": [
  {
   "cell_type": "code",
   "execution_count": 3,
   "metadata": {},
   "outputs": [
    {
     "name": "stdout",
     "output_type": "stream",
     "text": [
      "transaction=Transaction(transaction_date='2024-11-13', commerce='Costco', receipt_detail=[ReceiptDetail(quantity=1.0, description='par de jeans', category='Clothing', unit_price=500.0, subtotal=500.0), ReceiptDetail(quantity=1.0, description='cuernitos', category='Bakery', unit_price=99.0, subtotal=99.0), ReceiptDetail(quantity=2.0, description='pastelitos', category='Bakery', unit_price=150.0, subtotal=300.0), ReceiptDetail(quantity=25.0, description='litros de gasolina', category='Fuel', unit_price=23.01, subtotal=575.25), ReceiptDetail(quantity=1.3, description='kilos de tomate', category='Produce', unit_price=29.9, subtotal=38.87)], receipt_payment_method=[PaymentMethod(payment_method_type='Credit Card', payment_method_name='Costco Citibanamex', paid_amount=1500.12), PaymentMethod(payment_method_type='Credit Card', payment_method_name='NU', paid_amount=2000.01)], receipt_total=1513.12, total_payment=3500.13)\n"
     ]
    }
   ],
   "source": [
    "import json\n",
    "from dotenv import load_dotenv\n",
    "import os\n",
    "from pydantic import BaseModel\n",
    "from openai import OpenAI\n",
    "from datetime import datetime\n",
    "from typing import List\n",
    "from fastapi.encoders import jsonable_encoder\n",
    "import pandas as pd\n",
    "\n",
    "\n",
    "EXECUTION_DATETIME = datetime.now().strftime('%Y%m%d_%H%M%S') # será compartido en toda la ejecución para referenciar el mismo archivo en todas las capas\n",
    "\n",
    "load_dotenv(dotenv_path='./.env')\n",
    "\n",
    "client = OpenAI()\n",
    "client.api_key = os.getenv('OPENAI_API_KEY')\n",
    "\n",
    "class ReceiptDetail(BaseModel):\n",
    "    quantity: float\n",
    "    description: str\n",
    "    category: str\n",
    "    unit_price: float\n",
    "    subtotal: float\n",
    "\n",
    "class PaymentMethod(BaseModel):\n",
    "    payment_method_type: str\n",
    "    payment_method_name: str\n",
    "    paid_amount: float\n",
    "\n",
    "class Transaction(BaseModel):\n",
    "    transaction_date: str\n",
    "    commerce: str\n",
    "    receipt_detail: List[ReceiptDetail]\n",
    "    receipt_payment_method: List[PaymentMethod]\n",
    "    receipt_total: float\n",
    "    total_payment: float\n",
    "\n",
    "Transaction.model_rebuild() # This is required to enable recursive types\n",
    "\n",
    "class Response(BaseModel):\n",
    "    transaction: Transaction\n",
    "\n",
    "user_input_lang = 'spanish'\n",
    "\n",
    "# aqui tiene que ir el correspondiente archivo de la carpeta landing\n",
    "user_input_text = \"\"\"\n",
    "acabamos de comprar en costco un par de jeans por 500 unos cuernitos por 99 dos pastelitos por 150 cada uno 25 litros de gasolina por 23.01 cada uno 1.30 kilos de tomate en 29.90 cada uno pagado con tarjeta de crédito costco citibanamex un total de 1500.12 pesos y con tarjeta NU un total de 2000.01 pesos\n",
    "\"\"\"\n",
    "today_date = datetime.today().strftime('%Y-%m-%d')\n",
    "\n",
    "completion = client.beta.chat.completions.parse(\n",
    "    model=\"gpt-4o-2024-08-06\",\n",
    "    messages=[\n",
    "        {\"role\": \"system\", \"content\": f\"\"\"\n",
    "You are an expert at structured data extraction. You will be given unstructured text with detailed receipts from purchases in commerces and detailed payment methods of that specific receipt and should convert it into the given structure. Consider todays date as {today_date} and consider you will receive the data in {user_input_lang} but the sctructure is in english.\n",
    "        \"\"\" },\n",
    "        {\"role\": \"user\", \"content\": user_input_text}\n",
    "    ],\n",
    "    response_format=Response,\n",
    ")\n",
    "\n",
    "response = completion.choices[0].message.parsed ### landing\n",
    "\n",
    "# Transform response in py dict\n",
    "response_json = jsonable_encoder(response)['transaction']\n",
    "\n",
    "# Save into to_text layer\n",
    "today_date_folder = datetime.today().strftime('%Y%m%d')\n",
    "os.makedirs(f'./spend/text_to_json/{today_date_folder}',exist_ok=True)"
   ]
  },
  {
   "cell_type": "code",
   "execution_count": 2,
   "metadata": {},
   "outputs": [
    {
     "ename": "NameError",
     "evalue": "name 'EXECUTION_DATETIME' is not defined",
     "output_type": "error",
     "traceback": [
      "\u001b[1;31m---------------------------------------------------------------------------\u001b[0m",
      "\u001b[1;31mNameError\u001b[0m                                 Traceback (most recent call last)",
      "Cell \u001b[1;32mIn[2], line 1\u001b[0m\n\u001b[1;32m----> 1\u001b[0m filename \u001b[38;5;241m=\u001b[39m \u001b[38;5;124mf\u001b[39m\u001b[38;5;124m'\u001b[39m\u001b[38;5;124mreceipt_payments_\u001b[39m\u001b[38;5;132;01m{\u001b[39;00mEXECUTION_DATETIME\u001b[38;5;132;01m}\u001b[39;00m\u001b[38;5;124m.json\u001b[39m\u001b[38;5;124m'\u001b[39m\n\u001b[0;32m      3\u001b[0m filepath_json \u001b[38;5;241m=\u001b[39m \u001b[38;5;124mf\u001b[39m\u001b[38;5;124m'\u001b[39m\u001b[38;5;124m./spend/text_to_json/\u001b[39m\u001b[38;5;132;01m{\u001b[39;00mtoday_date_folder\u001b[38;5;132;01m}\u001b[39;00m\u001b[38;5;124m/\u001b[39m\u001b[38;5;132;01m{\u001b[39;00mfilename\u001b[38;5;132;01m}\u001b[39;00m\u001b[38;5;124m'\u001b[39m\n\u001b[0;32m      5\u001b[0m \u001b[38;5;28;01mwith\u001b[39;00m \u001b[38;5;28mopen\u001b[39m(filepath_json, \u001b[38;5;124m'\u001b[39m\u001b[38;5;124mw\u001b[39m\u001b[38;5;124m'\u001b[39m) \u001b[38;5;28;01mas\u001b[39;00m f:\n",
      "\u001b[1;31mNameError\u001b[0m: name 'EXECUTION_DATETIME' is not defined"
     ]
    }
   ],
   "source": [
    "filename = f'receipt_payments_{EXECUTION_DATETIME}.json'\n",
    "\n",
    "filepath_json = f'./spend/text_to_json/{today_date_folder}/{filename}'\n",
    "\n",
    "with open(filepath_json, 'w') as f:\n",
    "    json.dump(response_json, f)"
   ]
  },
  {
   "cell_type": "code",
   "execution_count": null,
   "metadata": {},
   "outputs": [
    {
     "name": "stderr",
     "output_type": "stream",
     "text": [
      "UsageError: Unknown variable 'filename'\n"
     ]
    }
   ],
   "source": [
    "%store filename\n",
    "%store filepath_json"
   ]
  }
 ],
 "metadata": {
  "kernelspec": {
   "display_name": "myenv",
   "language": "python",
   "name": "python3"
  },
  "language_info": {
   "codemirror_mode": {
    "name": "ipython",
    "version": 3
   },
   "file_extension": ".py",
   "mimetype": "text/x-python",
   "name": "python",
   "nbconvert_exporter": "python",
   "pygments_lexer": "ipython3",
   "version": "3.10.13"
  }
 },
 "nbformat": 4,
 "nbformat_minor": 2
}
